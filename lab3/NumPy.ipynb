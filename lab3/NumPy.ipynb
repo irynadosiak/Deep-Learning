{
 "cells": [
  {
   "cell_type": "markdown",
   "id": "f3a56971",
   "metadata": {},
   "source": [
    "## Import NumPy"
   ]
  },
  {
   "cell_type": "code",
   "execution_count": 2,
   "id": "8041b262",
   "metadata": {},
   "outputs": [
    {
     "name": "stdout",
     "output_type": "stream",
     "text": [
      "1.20.1\n"
     ]
    }
   ],
   "source": [
    "import numpy as np\n",
    "\n",
    "print(np.__version__)"
   ]
  },
  {
   "cell_type": "markdown",
   "id": "17ba78a8",
   "metadata": {},
   "source": [
    "## How to create a 1D array"
   ]
  },
  {
   "cell_type": "code",
   "execution_count": 3,
   "id": "8511f8a5",
   "metadata": {},
   "outputs": [
    {
     "name": "stdout",
     "output_type": "stream",
     "text": [
      "[0 1 2 3 4 5 6 7 8 9]\n"
     ]
    }
   ],
   "source": [
    "import numpy as np\n",
    "a = np.arange(10)\n",
    "print(a)"
   ]
  },
  {
   "cell_type": "markdown",
   "id": "6b42d10b",
   "metadata": {},
   "source": [
    "## How to create a boolean array"
   ]
  },
  {
   "cell_type": "code",
   "execution_count": 4,
   "id": "5d3abdda",
   "metadata": {},
   "outputs": [
    {
     "name": "stdout",
     "output_type": "stream",
     "text": [
      "[[ True  True  True]\n",
      " [ True  True  True]\n",
      " [ True  True  True]]\n"
     ]
    }
   ],
   "source": [
    "import numpy as np\n",
    "arr = np.ones((3, 3), dtype=bool)\n",
    "print(arr)"
   ]
  },
  {
   "cell_type": "markdown",
   "id": "a39e80ee",
   "metadata": {},
   "source": [
    "## How to extract items that satisfy a given condition from 1D array"
   ]
  },
  {
   "cell_type": "code",
   "execution_count": 5,
   "id": "fc37a8aa",
   "metadata": {},
   "outputs": [
    {
     "name": "stdout",
     "output_type": "stream",
     "text": [
      "[1 3 5 7 9]\n"
     ]
    }
   ],
   "source": [
    "import numpy as np\n",
    "arr = np.array([0, 1, 2, 3, 4, 5, 6, 7, 8, 9])\n",
    "result = arr[arr % 2 == 1]\n",
    "print(result)"
   ]
  },
  {
   "cell_type": "markdown",
   "id": "bb362042",
   "metadata": {},
   "source": [
    "## How to replace items that satisfy a condition with another value in numpy array"
   ]
  },
  {
   "cell_type": "code",
   "execution_count": 6,
   "id": "c73111ef",
   "metadata": {},
   "outputs": [
    {
     "name": "stdout",
     "output_type": "stream",
     "text": [
      "[ 0 -1  2 -1  4 -1  6 -1  8 -1]\n"
     ]
    }
   ],
   "source": [
    "import numpy as np\n",
    "arr = np.array([0, 1, 2, 3, 4, 5, 6, 7, 8, 9])\n",
    "arr[arr % 2 == 1] = -1\n",
    "print(arr)"
   ]
  },
  {
   "cell_type": "markdown",
   "id": "151155c2",
   "metadata": {},
   "source": [
    "## How to compute the mean, median, standard deviation of a numpy array"
   ]
  },
  {
   "cell_type": "code",
   "execution_count": 11,
   "id": "f2ae088d",
   "metadata": {},
   "outputs": [
    {
     "name": "stdout",
     "output_type": "stream",
     "text": [
      "5.5\n",
      "5.5\n",
      "2.8722813232690143\n"
     ]
    }
   ],
   "source": [
    "arr = np.array([1,2,3,4,5,6,7,8,9,10])\n",
    "mu = np.mean(arr)\n",
    "med = np.median(arr)\n",
    "sd = np.std(arr)\n",
    "print(mu)\n",
    "print(med)\n",
    "print(sd)"
   ]
  },
  {
   "cell_type": "markdown",
   "id": "7231c2b7",
   "metadata": {},
   "source": [
    "## How to find the percentile scores of a numpy array"
   ]
  },
  {
   "cell_type": "code",
   "execution_count": 12,
   "id": "6d3aeaa7",
   "metadata": {},
   "outputs": [
    {
     "name": "stdout",
     "output_type": "stream",
     "text": [
      "[1.45 9.55]\n"
     ]
    }
   ],
   "source": [
    "arr = np.array([1,2,3,4,5,6,7,8,9,10])\n",
    "percentiles = [5, 95]\n",
    "result = np.percentile(arr, q=percentiles)\n",
    "print(result)"
   ]
  },
  {
   "cell_type": "markdown",
   "id": "3c712d04",
   "metadata": {},
   "source": [
    "## How to find the most frequent value in a numpy array"
   ]
  },
  {
   "cell_type": "code",
   "execution_count": 13,
   "id": "a74cce02",
   "metadata": {},
   "outputs": [
    {
     "name": "stdout",
     "output_type": "stream",
     "text": [
      "1\n"
     ]
    }
   ],
   "source": [
    "arr = np.array([3, 4, 2, 1, 1, 1, 2, 3, 1, 3])\n",
    "values, counts = np.unique(arr, return_counts=True)\n",
    "result = values[np.argmax(counts)]\n",
    "print(result)"
   ]
  },
  {
   "cell_type": "markdown",
   "id": "f97424df",
   "metadata": {},
   "source": [
    "## How to stack two arrays vertically"
   ]
  },
  {
   "cell_type": "code",
   "execution_count": 15,
   "id": "c7373d3b",
   "metadata": {},
   "outputs": [
    {
     "name": "stdout",
     "output_type": "stream",
     "text": [
      "[[0 1 2 3 4]\n",
      " [5 6 7 8 9]\n",
      " [1 1 1 1 1]\n",
      " [1 1 1 1 1]]\n"
     ]
    }
   ],
   "source": [
    "a = np.arange(10).reshape(2,-1)\n",
    "b = np.repeat(1, 10).reshape(2,-1)\n",
    "out = np.vstack((a,b))\n",
    "print(out)"
   ]
  },
  {
   "cell_type": "markdown",
   "id": "a66f330e",
   "metadata": {},
   "source": [
    "## How to stack two arrays horizontally"
   ]
  },
  {
   "cell_type": "code",
   "execution_count": 17,
   "id": "f26de1f8",
   "metadata": {},
   "outputs": [
    {
     "name": "stdout",
     "output_type": "stream",
     "text": [
      "[[0 1 2 3 4 1 1 1 1 1]\n",
      " [5 6 7 8 9 1 1 1 1 1]]\n"
     ]
    }
   ],
   "source": [
    "a = np.arange(10).reshape(2,-1)\n",
    "b = np.repeat(1, 10).reshape(2,-1)\n",
    "out = np.hstack((a,b))\n",
    "print(out)"
   ]
  },
  {
   "cell_type": "markdown",
   "id": "4532f042",
   "metadata": {},
   "source": [
    "## How to get the common items between two python numpy arrays"
   ]
  },
  {
   "cell_type": "code",
   "execution_count": 18,
   "id": "b104b167",
   "metadata": {},
   "outputs": [
    {
     "name": "stdout",
     "output_type": "stream",
     "text": [
      "[2 4]\n"
     ]
    }
   ],
   "source": [
    "a = np.array([1,2,3,2,3,4,3,4,5,6])\n",
    "b = np.array([7,2,10,2,7,4,9,4,9,8])\n",
    "out = np.intersect1d(a,b)\n",
    "print(out)"
   ]
  },
  {
   "cell_type": "markdown",
   "id": "fde28354",
   "metadata": {},
   "source": [
    "## How to remove from one array those items that exist in another"
   ]
  },
  {
   "cell_type": "code",
   "execution_count": 19,
   "id": "1fbac97c",
   "metadata": {},
   "outputs": [
    {
     "name": "stdout",
     "output_type": "stream",
     "text": [
      "[1 2 3 4]\n"
     ]
    }
   ],
   "source": [
    "a = np.array([1,2,3,4,5]) \n",
    "b = np.array([5,6,7,8,9])  \n",
    "out = np.setdiff1d(a,b)\n",
    "print(out)"
   ]
  },
  {
   "cell_type": "markdown",
   "id": "167884ea",
   "metadata": {},
   "source": [
    "## How to get the positions where elements of two arrays match"
   ]
  },
  {
   "cell_type": "code",
   "execution_count": 20,
   "id": "d76fc13a",
   "metadata": {},
   "outputs": [
    {
     "name": "stdout",
     "output_type": "stream",
     "text": [
      "[1 3 5 7]\n"
     ]
    }
   ],
   "source": [
    "a = np.array([1,2,3,2,3,4,3,4,5,6]) \n",
    "b = np.array([7,2,10,2,7,4,9,4,9,8]) \n",
    "out = np.where(a == b)[0]\n",
    "print(out)"
   ]
  },
  {
   "cell_type": "markdown",
   "id": "5bcf6f6e",
   "metadata": {},
   "source": [
    "## How to reverse the columns of a 2D array"
   ]
  },
  {
   "cell_type": "code",
   "execution_count": 21,
   "id": "d9f1370e",
   "metadata": {},
   "outputs": [
    {
     "name": "stdout",
     "output_type": "stream",
     "text": [
      "[[5 4 3]\n",
      " [2 1 0]\n",
      " [8 7 6]]\n"
     ]
    }
   ],
   "source": [
    "arr = np.array([[3, 4, 5], [0, 1, 2], [6, 7, 8]]) \n",
    "out = arr[:, ::-1]\n",
    "print(out)"
   ]
  },
  {
   "cell_type": "markdown",
   "id": "874f8e2d",
   "metadata": {},
   "source": [
    "## How to normalize an array so the values range exactly between 0 and 1"
   ]
  },
  {
   "cell_type": "code",
   "execution_count": 22,
   "id": "a46323cd",
   "metadata": {},
   "outputs": [
    {
     "name": "stdout",
     "output_type": "stream",
     "text": [
      "[0.         0.11111111 0.22222222 0.33333333 0.44444444 0.55555556\n",
      " 0.66666667 0.77777778 0.88888889 1.        ]\n"
     ]
    }
   ],
   "source": [
    "arr = np.array([1, 2, 3, 4, 5, 6, 7, 8, 9, 10])\n",
    "arr_norm = (arr - np.min(arr)) / (np.max(arr - np.min(arr)))\n",
    "print(arr_norm)"
   ]
  },
  {
   "cell_type": "markdown",
   "id": "0d76abcd",
   "metadata": {},
   "source": [
    "## How to find the correlation between two columns of a numpy array"
   ]
  },
  {
   "cell_type": "code",
   "execution_count": 23,
   "id": "51f3495d",
   "metadata": {},
   "outputs": [
    {
     "name": "stdout",
     "output_type": "stream",
     "text": [
      "-0.6123724356957946\n"
     ]
    }
   ],
   "source": [
    "matr = np.array([[0, 0, 0, 2, 2],\n",
    "                 [0, 2, 1, 2, 2],\n",
    "                 [2, 2, 1, 0, 0],\n",
    "                 [0, 0, 2, 0, 1],\n",
    "                 [1, 2, 2, 0, 0]])\n",
    "x = 0\n",
    "y = 3\n",
    "corr = np.corrcoef(matr[:, x], matr[:, y])[0, 1]\n",
    "print(corr)"
   ]
  },
  {
   "cell_type": "markdown",
   "id": "df423617",
   "metadata": {},
   "source": [
    "## How to find if a given array has any null values"
   ]
  },
  {
   "cell_type": "code",
   "execution_count": 24,
   "id": "7a94447b",
   "metadata": {},
   "outputs": [
    {
     "name": "stdout",
     "output_type": "stream",
     "text": [
      "True\n"
     ]
    }
   ],
   "source": [
    "matr = np.array([[1.0, 2.0], [np.nan, 4.0]]) \n",
    "flag = np.isnan(matr).any()\n",
    "print(flag)"
   ]
  },
  {
   "cell_type": "markdown",
   "id": "3db87724",
   "metadata": {},
   "source": [
    "## How to find the count of unique values in a numpy array"
   ]
  },
  {
   "cell_type": "code",
   "execution_count": 25,
   "id": "6f3e59d9",
   "metadata": {},
   "outputs": [
    {
     "name": "stdout",
     "output_type": "stream",
     "text": [
      "[1 2 3 4]\n"
     ]
    }
   ],
   "source": [
    "arr = np.array([1,2,3,1,2,4]) \n",
    "uniques, counts = np.unique(arr, return_counts=True)\n",
    "print(uniques)"
   ]
  },
  {
   "cell_type": "markdown",
   "id": "4b39d5d6",
   "metadata": {},
   "source": [
    "## How to find the maximum value in each row of a numpy array 2d"
   ]
  },
  {
   "cell_type": "code",
   "execution_count": 26,
   "id": "92b3cdcd",
   "metadata": {},
   "outputs": [
    {
     "name": "stdout",
     "output_type": "stream",
     "text": [
      "[9 8 6]\n"
     ]
    }
   ],
   "source": [
    "a = np.array([[9, 9, 4], [8, 8, 1], [5, 3, 6]]) \n",
    "maximas = np.amax(a, axis=1)\n",
    "print(maximas)"
   ]
  },
  {
   "cell_type": "markdown",
   "id": "a1d0e2df",
   "metadata": {},
   "source": [
    "## How to drop all missing values from a numpy array"
   ]
  },
  {
   "cell_type": "code",
   "execution_count": 27,
   "id": "a07988c4",
   "metadata": {},
   "outputs": [
    {
     "name": "stdout",
     "output_type": "stream",
     "text": [
      "[1. 2. 3. 5. 6. 7.]\n"
     ]
    }
   ],
   "source": [
    "import numpy as np\n",
    "a = np.array([1,2,3,np.nan,5,6,7,np.nan]) \n",
    "after_drop = a[~np.isnan(a)]\n",
    "print(after_drop)"
   ]
  },
  {
   "cell_type": "code",
   "execution_count": null,
   "id": "3e539f36",
   "metadata": {},
   "outputs": [],
   "source": []
  }
 ],
 "metadata": {
  "kernelspec": {
   "display_name": "Python 3",
   "language": "python",
   "name": "python3"
  },
  "language_info": {
   "codemirror_mode": {
    "name": "ipython",
    "version": 3
   },
   "file_extension": ".py",
   "mimetype": "text/x-python",
   "name": "python",
   "nbconvert_exporter": "python",
   "pygments_lexer": "ipython3",
   "version": "3.8.8"
  }
 },
 "nbformat": 4,
 "nbformat_minor": 5
}
